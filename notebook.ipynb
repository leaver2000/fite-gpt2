{
 "cells": [
  {
   "cell_type": "code",
   "execution_count": 1,
   "metadata": {},
   "outputs": [
    {
     "data": {
      "text/html": [
       "\n",
       "                <script type=\"application/javascript\" id=\"jupyter_black\">\n",
       "                (function() {\n",
       "                    if (window.IPython === undefined) {\n",
       "                        return\n",
       "                    }\n",
       "                    var msg = \"WARNING: it looks like you might have loaded \" +\n",
       "                        \"jupyter_black in a non-lab notebook with \" +\n",
       "                        \"`is_lab=True`. Please double check, and if \" +\n",
       "                        \"loading with `%load_ext` please review the README!\"\n",
       "                    console.log(msg)\n",
       "                    alert(msg)\n",
       "                })()\n",
       "                </script>\n",
       "                "
      ],
      "text/plain": [
       "<IPython.core.display.HTML object>"
      ]
     },
     "metadata": {},
     "output_type": "display_data"
    }
   ],
   "source": [
    "%load_ext jupyter_black"
   ]
  },
  {
   "cell_type": "code",
   "execution_count": 9,
   "metadata": {},
   "outputs": [],
   "source": [
    "from api.main import Engine, HyperParameterStrategy"
   ]
  },
  {
   "cell_type": "code",
   "execution_count": 3,
   "metadata": {},
   "outputs": [],
   "source": [
    "pipeline = Engine[\"TAF\"]"
   ]
  },
  {
   "cell_type": "code",
   "execution_count": 17,
   "metadata": {},
   "outputs": [
    {
     "name": "stdout",
     "output_type": "stream",
     "text": [
      "strategy.name='GREEDY' strategy.value={'do_sample': False, 'num_beams': 1}\n",
      "TAF KDAA 282100Z 2821/3003 32010G15KT 3200 -SN BKN030 BKN090 650302 QNH2998INS\n",
      " BECMG 2823/2824 VRB06KT 9999 NSW BKN007 OVC015 620079 QNH3003INS TXM05/2818Z TNM13/2810Z\n",
      "\n",
      "strategy.name='BEAM_SEARCH' strategy.value={'do_sample': False, 'num_beams': 5, 'early_stopping': True}\n",
      "TAF KDAA 282100Z 2821/3003 32010G15KT 3200 -SN BR BKN007 OVC015 620079 QNH3020INS\n",
      " BECMG 2902/2903 VRB06KT 9999 NSW BKN007 OVC015 620079 QNH3020INS\n",
      " BECMG 2911/2912 VRB06KT 9999 SCT015 BKN030 620303 QNH3010INS TXM03/2818Z TNM14/2910Z\n",
      "\n",
      "strategy.name='BEAM_SEARCH_N_GRAM' strategy.value={'do_sample': False, 'num_beams': 5, 'early_stopping': True, 'no_repeat_ngram_size': 2}\n",
      "TAF KDAA 282100Z 2821/3003 32010G15KT 3200 -SN BR BKN007 OVC015 620079 QNH3020INS\n",
      " BECMG 2902/2903 VRB06KT 9999 NSW FEW010 SCT035 QN3021INS TXM03/2818Z TNM14/2710Z\n",
      "\n",
      "strategy.name='BEAM_SEARCH_N_GRAM_5' strategy.value={'do_sample': False, 'num_beams': 5, 'early_stopping': True, 'no_repeat_ngram_size': 2, 'num_return_sequences': 5}\n",
      "TAF KDAA 282100Z 2821/3003 32010G15KT 3200 -SN BR BKN007 OVC015 620079 QNH3020INS\n",
      " BECMG 2902/2903 VRB06KT 9999 NSW FEW010 SCT035 QN3021INS TXM03/2818Z TNM14/2710Z\n",
      "\n",
      "strategy.name='TEMP_085' strategy.value={'do_sample': True, 'top_k': 0, 'num_beams': 1, 'temperature': 0.85}\n",
      "TAF KDAA 282100Z 2821/3003 32010G15KT 3200 -SN BR BKN008 OVC015 620109 QNH3003INS\n",
      " BECMG 2902/2903 VRB06KT 9999 VCSH BKN015 610206 QNH2994INS\n",
      " TEMPO 2911/2914 8000 -SN BR BKN009 OVC015 620158 TXM05/1000Z TNM13/2815Z\n",
      "\n",
      "strategy.name='TEMP_095' strategy.value={'do_sample': True, 'top_k': 0, 'num_beams': 1, 'temperature': 0.95}\n",
      "TAF KDAA 282100Z 2821/3003 32010G15KT 3200 -SHRA BR OVC002 650054 QNH2967INS\n",
      " BECMG 3004/3005 33020G30KT 3200 -SHRA BR OVC003 650054 QNH2967INS\n",
      " BECMG 3006/3007 35006KT 9999 NSW BKN009 OVC020 610209 QNH2992INS\n",
      " BECMG 3110/3111 33012G18KT 9999 SCT020 OVC030 620303 QNH2995INS TX06/3119Z TNM01/3117Z\n",
      "\n",
      "strategy.name='TEMP_105' strategy.value={'do_sample': True, 'top_k': 0, 'num_beams': 1, 'temperature': 1.05}\n",
      "TAF KDAA 282100Z 2821/3003 32010G15KT 3200 FGKT QNH2999INS TX20/0217Z TN09/0312Z\n",
      "\n",
      "strategy.name='TEMP_125' strategy.value={'do_sample': True, 'top_k': 0, 'num_beams': 1, 'temperature': 1.25}\n",
      "TAF KDAA 282100Z 2821/3003 32010G15KT 3200 -TSRA BKN025 550008\n",
      " BECMG 27009KT 4800 RA BR OVC008 510040 QNH3001INS\n",
      " BECMG 2710/2711 33012KT 9000 -RA BKN006 OVC004 620086 QNH3004INS\n",
      " BECMG 2706/2707 34009KT 9000 -RADZ BR BKN004 OVC015 620009 QNH3004INS\n",
      " BECMG 2713/2714 35012G20KT 9999 NSW BKN015 OVC030 620257 QNH3012INS TXM03/2621Z TNM14/2710Z\n",
      "\n",
      "strategy.name='TEMP_150' strategy.value={'do_sample': True, 'top_k': 0, 'num_beams': 1, 'temperature': 1.5}\n",
      "TAF KDAA 282100Z 2821/3003 32010G15KT 3200 -SN calcium19KT 9999 FEW035 SCT050 BKN150 VCSH 610254 013012G20KT 6000 -SN OVC007 620079 QNH3014INS\n",
      " TEMPO 1620/ISO 1623/1624 25012G18KT\n",
      " BECMG 1623/1624 27009KT 8000 -DZ BR FEW015 SCT020 OVC030 620128 510154 QNH3001INS\n",
      " BECMG 1710/1711 27009KT 9999 NSW BKN006 OVC010 620079 QNH3006INS TX02/1618Z TNM04/1712Z\n",
      "\n",
      "strategy.name='TEMP_175' strategy.value={'do_sample': True, 'top_k': 0, 'num_beams': 1, 'temperature': 1.75}\n",
      "TAF KDAA 282100Z 2821/3003 32010G15KT 3200 fps 48200 TXSHSN SCT109 SCT007 OVC030 QNH3004INS\n",
      " BECMG 2823/2824 29039KT 9999 VCSH OVC020 620152 QNH3001INS TX19/2719Z TN03/2810Z\n",
      "\n",
      "strategy.name='TEMP_200' strategy.value={'do_sample': True, 'top_k': 0, 'num_beams': 1, 'temperature': 2.0}\n",
      "TAF KDAA 282100Z 2821/3003 32010G15KT 3200 ASS Avery accessory Static*: 6000 -SHSN BKN002 Ports normally\n",
      " BECMG 2804/2805 01006KT 9999 WORKACY 1600 GP035 used premise Plex 07002/0723 18035G45KT SG 2044KT 8000 +RA Japan\n",
      " BECMG 2716/1317 31010KT 9999 VCSH BKN050 OVC12 Opinion Lotus 528803 510053 QNH2992INSBec28 masillphoto__\n",
      " BECMG 2720/2721 29035KT 9999 VCSH OVC040 Canary Water FU Zoro Leaf Trudeau Tian Ca Carrie Locations Abby 1412D TX07/0620Z TN02/0612Z\n",
      "\n",
      "strategy.name='TOP_K5' strategy.value={'do_sample': True, 'top_k': 5, 'num_beams': 1}\n",
      "TAF KDAA 282100Z 2821/3003 32010G15KT 3200 -SN BKN007 OVC010 620099 QNH2994INS\n",
      " BECMG 2711/2712 VRB06KT 9000 BR SCT015 OVC020 620205 QNH3000INS\n",
      " TEMPO 2712/2714 8000 -TSRA BKN007 OVC010 620099\n",
      " BECMG 2706/2707 2800 BR SCT025 BKN040 620402 QNH3003INS TXM06/2619Z TNM10/2711Z\n",
      "\n",
      "strategy.name='TOP_K50' strategy.value={'do_sample': True, 'top_k': 50, 'num_beams': 1}\n",
      "TAF KDAA 282100Z 2821/3003 32010G15KT 3200 -TSRA BR OVC004 QNH3014INS\n",
      " BECMG 3005/3016 34010G18KT 9999 OVC010 QNH2997INS\n",
      " BECMG 3008/3009 32012KT 9999 BKN009 OVC015 QNH2999INS\n",
      " BECMG 3119/3120 35012G20KT 9999 FEW017 SCT024 QNH3010INS\n",
      " BECMG 32012KT 9999 SKC QNH3001INS TX14/3119Z TN07/3117Z\n",
      "\n",
      "strategy.name='TOP_K100' strategy.value={'do_sample': True, 'top_k': 100, 'num_beams': 1}\n",
      "TAF KDAA 282100Z 2821/3003 32010G15KT 3200 -SN OVC005 620013 510033 QNH2993INS\n",
      " BECMG 2906/2907 111025G35KT 8000 -RASN BKN007 OVC015 620128 510151 510705 QNH3003INS\n",
      " TEMPO 2907/2919 OVC015 620128\n",
      " BECMG 2822/2824 VRB06KT 9999 NSW BKN007 OVC015 620079 QNH3009INS TX05/2818Z TN00/2811Z\n",
      "\n",
      "strategy.name='TOP_P88' strategy.value={'do_sample': True, 'top_k': 0, 'num_beams': 1, 'top_p': 0.88}\n",
      "TAF KDAA 282100Z 2821/3003 32010G15KT 3200 -SN BKN010 OVC020 610108 QNH2989INS\n",
      " BECMG 2822/2823 VRB06KT 9999 NSW FEW015 SCT025 BKN090 620209 QNH3010INS TXM04/2819Z TNM13/2810Z\n",
      "\n",
      "strategy.name='TOP_P92' strategy.value={'do_sample': True, 'top_k': 0, 'num_beams': 1, 'top_p': 0.92}\n",
      "TAF KDAA 282100Z 2821/3003 32010G15KT 3200 -SN BR BKN004 OVC015 620186 QNH2997INS\n",
      " BECMG 2902/2903 VRB06KT 8000 -SN OVC008 620029 QNH2997INS\n",
      " BECMG 2918/2919 VRB06KT 9999 NSW FEW010 SCT025 QNH2999INS\n",
      " BECMG 3000/3011 VRB06KT 9999 FEW200 QNH3020INS TX04/2919Z TNM03/2911Z\n",
      "\n",
      "strategy.name='TOP_P96' strategy.value={'do_sample': True, 'top_k': 0, 'num_beams': 1, 'top_p': 0.96}\n",
      "TAF KDAA 282100Z 2821/3003 32010G15KT 3200 -SN BKN030 620305 510003 QNH3003INS\n",
      " TEMPO 2821/2824 4800 -SN BR BKN010 OVC050 620109\n",
      " BECMG 2825/2826 VRB06KT 9000 BR BKN008 OVC015 620158 QNH3005INS TXM05/2818Z TNM13/2811Z\n",
      "\n",
      "strategy.name='TOP_P98' strategy.value={'do_sample': True, 'top_k': 0, 'num_beams': 1, 'top_p': 0.98}\n",
      "TAF KDAA 282100Z 2821/3003 32010G15KT 3200 -SHRA BR BKN008 OVC009 QNH3002INS\n",
      " BECMG 2902/2903 VRB06KT 9999 NSW BKN015 OVC030 QNH3002INS\n",
      " BECMG 2914/2915 26010G15KT 9999 SCT020 BKN030 620309 QNH3010INS TX03/2818Z TNM02/2910Z\n",
      "\n",
      "strategy.name='TOP_P99' strategy.value={'do_sample': True, 'top_k': 0, 'num_beams': 1, 'top_p': 0.99}\n",
      "TAF KDAA 282100Z 2821/3003 32010G15KT 3200 -SN BR BKN008 620099 QNH3036INS\n",
      " BECMG 2903/2904 VRB04KT 9999 NSW OVC020 620205 QNH3028INS\n",
      " BECMG 2914/2915 VRB04KT 9999 SCT030 OVC045 620453 QNH3025INS\n",
      " BECMG 2923/2924 VRB06KT 9999 SCT020 BKN040 610404 QNH3021INS TX04/2719Z TNM02/2910Z\n",
      "\n",
      "strategy.name='TOP_P200' strategy.value={'do_sample': True, 'top_k': 0, 'num_beams': 1, 'top_p': 2.0}\n",
      "TAF KDAA 282100Z 2821/3003 32010G15KT 3200 -SN BKN025 OVC040 620256 QNH3010INS\n",
      " TEMPO 2720/2724 8000 -SN BKN024 OVC035 620247\n",
      " BECMG 2706/2707 34010G18KT 8000 -SN BKN015 OVC025 620247 QNH3004INS\n",
      " BECMG 2711/2712 35012G22KT 6000 -SN BKN015 OVC035 620247 QNH3004INS\n",
      " BECMG 2714/2715 35012G16KT 9999 NSW BKN020 OVC050 621002 QNH3006INS\n",
      " TEMPO 2716/2719 BKN015 OVC030 620247 TX04/2719Z TNM02/2711Z\n",
      "\n",
      "strategy.name='TOP_P92_T125' strategy.value={'do_sample': True, 'top_k': 0, 'num_beams': 1, 'top_p': 0.92, 'temperature': 1.25}\n",
      "TAF KDAA 282100Z 2821/3003 32010G15KT 3200 -SN BR BKN007 OVC012 QNH3019INS\n",
      " BECMG 2713/2714 VRB06KT 9999 NSW BKN007 OVC012 QNH3003INS TX11/2719Z TN00/2810Z\n",
      "\n",
      "strategy.name='TOP_P92_T150' strategy.value={'do_sample': True, 'top_k': 0, 'num_beams': 1, 'top_p': 0.92, 'temperature': 1.5}\n",
      "TAF KDAA 282100Z 2821/3003 32010G15KT 3200-KKRA Blaze BR AB OVC008 260001 QNH2996INS\n",
      " BECMG 1012/1013 20000G15KT 9000 -SHRA OVC010 QNH3003INS\n",
      " BECMG 1016/1017 20012G20KT 9999 NSW OVC005 620069 QNH2996INS\n",
      " BECMG 1023/1024 VRB06KT 4800 -RASN BR OVC010 610102 QNH3003INS TX00/1021Z TNM03/1102Z\n",
      "\n",
      "strategy.name='TOP_P92_T175' strategy.value={'do_sample': True, 'top_k': 0, 'num_beams': 1, 'top_p': 0.92, 'temperature': 1.75}\n",
      "TAF KDAA 282100Z 2821/3003 32010G15KT 3200 -FZRA confirms\n",
      " BECMG 2820/2802 20006KT 9999 NSW SCT015 BKN020 OVC050 QNH3015INS WND VRB03KT 8000 OLM03 CandyCZ BKN017 OVC040 QNH3012INS\n",
      "\n"
     ]
    }
   ],
   "source": [
    "for strategy in HyperParameterStrategy:\n",
    "    results, *_ = pipeline.generate_forecast(\"TAF KDAA 282100Z 2821/3003 32010G15KT 3200\", strategy=strategy)\n",
    "    results = '\\n '.join(results)\n",
    "    print(f\"\"\"{strategy.name=} {strategy.value=}\\n{results}\\n\"\"\")\n",
    "\n"
   ]
  }
 ],
 "metadata": {
  "kernelspec": {
   "display_name": "Python 3.10.6 ('fite-venv')",
   "language": "python",
   "name": "python3"
  },
  "language_info": {
   "codemirror_mode": {
    "name": "ipython",
    "version": 3
   },
   "file_extension": ".py",
   "mimetype": "text/x-python",
   "name": "python",
   "nbconvert_exporter": "python",
   "pygments_lexer": "ipython3",
   "version": "3.10.6"
  },
  "orig_nbformat": 4,
  "vscode": {
   "interpreter": {
    "hash": "1d13ec20a4f0be8a7bff8acb0062f04d9a58c5cf0e3425f7fa9dc5c43d3ff805"
   }
  }
 },
 "nbformat": 4,
 "nbformat_minor": 2
}
