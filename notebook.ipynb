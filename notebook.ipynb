{
 "cells": [
  {
   "cell_type": "code",
   "execution_count": 1,
   "metadata": {},
   "outputs": [
    {
     "name": "stderr",
     "output_type": "stream",
     "text": [
      "/home/leaver2000/fite-venv/lib/python3.10/site-packages/tqdm/auto.py:22: TqdmWarning: IProgress not found. Please update jupyter and ipywidgets. See https://ipywidgets.readthedocs.io/en/stable/user_install.html\n",
      "  from .autonotebook import tqdm as notebook_tqdm\n"
     ]
    }
   ],
   "source": [
    "from model import gpt2"
   ]
  },
  {
   "cell_type": "code",
   "execution_count": 9,
   "metadata": {},
   "outputs": [
    {
     "data": {
      "text/plain": [
       "[{'generated_text': 'TAF KBLV 301800Z 3018/3124 12005KT 9999 BKN030 QNH3025INS\\nBECMG 0314 VRG2046 6000 -SN OVC015 620156 530033 510151 510705 FEW200 520004 WS020 / 18050K40T6N 4800 +RA BR SCT007CB03 54010R DTS080 620408 531028 520444 NSW SKC VCSH003 55012Q 3100958 5613006 TSRI SHS050 610206 540204 SN 100'}]"
      ]
     },
     "execution_count": 9,
     "metadata": {},
     "output_type": "execute_result"
    }
   ],
   "source": [
    "# the does a pretty good job of properly encoding the first line\n",
    "result  = gpt2.pipeline.predict(\"TAF KBLV 301800Z 3018/3124 12005KT\")\n",
    "\n",
    "result\n"
   ]
  },
  {
   "cell_type": "code",
   "execution_count": 20,
   "metadata": {},
   "outputs": [
    {
     "data": {
      "text/plain": [
       "[{'generated_text': 'TAF KBLV 301800Z 3018/3124 12005KT 9999 BKN030 QNH3025INS\\nTEMPO 3018/3021 8000 -SN BR OVC008 620069\\nBECMG 3123 / 32024G35RA 4800 +DUBA RA VCT006 510004 540053 520002 FEW020 SGT035 620459 510203 530154 WS015 and 03006KS040CB 540303 SNQ 18020TSK 0512004 6000 DY050 31193000 SHAREHIGHTR'}]"
      ]
     },
     "execution_count": 20,
     "metadata": {},
     "output_type": "execute_result"
    }
   ],
   "source": [
    "# using the good portion of the first result, appending a new tempo line to the forecast it is able to \n",
    "# properly encode the second tempo group\n",
    "new_text = result[0][\"generated_text\"].splitlines()[0] +  \"\\nTEMPO 3018/3021\" # type: ignore\n",
    "gpt2.pipeline.predict(new_text)\n"
   ]
  }
 ],
 "metadata": {
  "kernelspec": {
   "display_name": "Python 3.10.6 ('fite-venv')",
   "language": "python",
   "name": "python3"
  },
  "language_info": {
   "codemirror_mode": {
    "name": "ipython",
    "version": 3
   },
   "file_extension": ".py",
   "mimetype": "text/x-python",
   "name": "python",
   "nbconvert_exporter": "python",
   "pygments_lexer": "ipython3",
   "version": "3.10.6"
  },
  "orig_nbformat": 4,
  "vscode": {
   "interpreter": {
    "hash": "1d13ec20a4f0be8a7bff8acb0062f04d9a58c5cf0e3425f7fa9dc5c43d3ff805"
   }
  }
 },
 "nbformat": 4,
 "nbformat_minor": 2
}
