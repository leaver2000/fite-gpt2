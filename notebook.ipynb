{
 "cells": [
  {
   "cell_type": "code",
   "execution_count": null,
   "metadata": {},
   "outputs": [],
   "source": [
    "%load_ext jupyter_black"
   ]
  },
  {
   "cell_type": "code",
   "execution_count": 1,
   "metadata": {},
   "outputs": [
    {
     "name": "stderr",
     "output_type": "stream",
     "text": [
      "/home/leaver2000/fite-venv/lib/python3.10/site-packages/fite/pipeline.py:359: UserWarning: Model gpt2-metar-base1 was found in the config but not on disk\n",
      "Model path: store/gpt2-metar-base1/model\n",
      "Tokenizer path: store/gpt2-metar-base1/tokenizer\n",
      "Skipping...\n",
      "  warnings.warn(\n"
     ]
    }
   ],
   "source": [
    "from fite.api import PipelineEngine\n",
    "engine = PipelineEngine.load_from_pyproject(\"pyproject.toml\")"
   ]
  },
  {
   "cell_type": "code",
   "execution_count": 2,
   "metadata": {},
   "outputs": [
    {
     "data": {
      "text/plain": [
       "['gpt2-taf-base1']"
      ]
     },
     "execution_count": 2,
     "metadata": {},
     "output_type": "execute_result"
    }
   ],
   "source": [
    "engine.list_models()"
   ]
  },
  {
   "cell_type": "code",
   "execution_count": 3,
   "metadata": {},
   "outputs": [
    {
     "data": {
      "text/plain": [
       "[['TAF KBLV 201853Z 2019/2118 00000KT P6SM SCT250 QNH3020INS',\n",
       "  'BECMG 0203/0204 VRB03KT 4800 BR BKN250 QNH3010INS',\n",
       "  'BECMG 0214/0215 16005KT 9999 NSW SCT120 BKN250 QNH3010INS TX19/0120Z TN09/0212Z']]"
      ]
     },
     "execution_count": 3,
     "metadata": {},
     "output_type": "execute_result"
    }
   ],
   "source": [
    "engine.generate(\"gpt2-taf-base1\", \"TAF KBLV 201853Z 2019/2118 00000KT P6SM SCT250\", strategy=\"GREEDY\")"
   ]
  }
 ],
 "metadata": {
  "kernelspec": {
   "display_name": "Python 3.10.6 ('fite-venv')",
   "language": "python",
   "name": "python3"
  },
  "language_info": {
   "codemirror_mode": {
    "name": "ipython",
    "version": 3
   },
   "file_extension": ".py",
   "mimetype": "text/x-python",
   "name": "python",
   "nbconvert_exporter": "python",
   "pygments_lexer": "ipython3",
   "version": "3.10.6"
  },
  "orig_nbformat": 4,
  "vscode": {
   "interpreter": {
    "hash": "1d13ec20a4f0be8a7bff8acb0062f04d9a58c5cf0e3425f7fa9dc5c43d3ff805"
   }
  }
 },
 "nbformat": 4,
 "nbformat_minor": 2
}
