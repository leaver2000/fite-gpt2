{
 "cells": [
  {
   "cell_type": "code",
   "execution_count": 1,
   "metadata": {},
   "outputs": [],
   "source": [
    "from model.gpt2 import pipeline\n",
    "# loading the module can be a little slow\n",
    "pipe = pipeline()\n"
   ]
  },
  {
   "cell_type": "code",
   "execution_count": 2,
   "metadata": {},
   "outputs": [
    {
     "data": {
      "text/plain": [
       "[['TAF 152030Z 1520/1621 VRB06KT 9999 FEW050 QNH3029INS',\n",
       "  'BECMG 1602/1603 VRB06KT 9999 FEW200 QNH3028INS',\n",
       "  'BECMG 1609/1610 VRB06KT 9999 FEW200 QNH3027INS TXM01/1620Z TNM07/1610Z'],\n",
       " ['TAF KBLV 1520/1621 32020G30KT 9999 NSW OVC015 620159 QNH3007INS',\n",
       "  'BECMG 1602/1603 31012KT 9999 OVC020 620205 QNH3010INS',\n",
       "  'BECMG 1614/1615 31015G25KT 9999 BKN020 620205 QNH3012INS',\n",
       "  'BECMG 1616/1617 31015G25KT 9999 FEW030 BKN045 OVC060 620459 510203 QNH3017INS TX02/1618Z TNM03/1613Z'],\n",
       " ['TAF KGTB 1520/1621 32025G35KT 8000 -RA OVC006 620069 510004 QNH2993INS',\n",
       "  'BECMG 1602/1603 31012G20KT 9999 NSW OVC006 620069 510004 QNH2993INS',\n",
       "  'BECMG 1614/1615 31012KT 9999 SCT010 BKN030 620303 QNH3001INS TX02/1520Z TNM03/1610Z'],\n",
       " ['TAF KGUS 1520/1621 32025G35KT 5000 -TSRA BKN010CB',\n",
       "  'BECMG 1602/1603 31012KT 9999 NSW BKN015 OVC030 620303 QNH2995INS',\n",
       "  'BECMG 1609/1610 31012G20KT 9999 BKN025 620303 QNH2998INS',\n",
       "  'BECMG 1613/1614 31015G25KT 9999 FEW030 SCT045 QNH3002INS TX04/1520Z TN00/1611Z'],\n",
       " ['TAF KGUS 1520/1621 32015G25KT 9999 OVC010 QNH3029INS',\n",
       "  'TEMPO 1521/1601 32015G25KT',\n",
       "  'BECMG 1602/1603 31012G20KT 9999 BKN030 QNH3028INS',\n",
       "  'BECMG 1609/1610 31012KT 9999 BKN030 QNH3027INS',\n",
       "  'BECMG 1613/1614 31015G25KT 9999 FEW030 QNH3028INS TX04/1521Z TN01/1611Z']]"
      ]
     },
     "execution_count": 2,
     "metadata": {},
     "output_type": "execute_result"
    }
   ],
   "source": [
    "# but is pretty quick once compiled\n",
    "forecasts = pipe.generate_forecast([\n",
    "    \"TAF \",\n",
    "    \"TAF KBLV 1520/1621 320\",\n",
    "    \"TAF KGTB 1520/1621 32025G35KT 8000\",\n",
    "    \"TAF KGUS 1520/1621 32025G35KT 5000 -TSRA\",\n",
    "    \"TAF KGUS 1520/1621 32015G25KT 9999 OVC010 QNH3029INS\\nTEMPO\"\n",
    "    ]\n",
    ")\n",
    "forecasts"
   ]
  },
  {
   "cell_type": "code",
   "execution_count": 3,
   "metadata": {},
   "outputs": [
    {
     "name": "stdout",
     "output_type": "stream",
     "text": [
      "TAF 152030Z 1520/1621 VRB06KT 9999 FEW050 QNH3029INS\n",
      " BECMG 1602/1603 VRB06KT 9999 FEW200 QNH3028INS\n",
      " BECMG 1609/1610 VRB06KT 9999 FEW200 QNH3027INS TXM01/1620Z TNM07/1610Z\n",
      "\n",
      "TAF KBLV 1520/1621 32020G30KT 9999 NSW OVC015 620159 QNH3007INS\n",
      " BECMG 1602/1603 31012KT 9999 OVC020 620205 QNH3010INS\n",
      " BECMG 1614/1615 31015G25KT 9999 BKN020 620205 QNH3012INS\n",
      " BECMG 1616/1617 31015G25KT 9999 FEW030 BKN045 OVC060 620459 510203 QNH3017INS TX02/1618Z TNM03/1613Z\n",
      "\n",
      "TAF KGTB 1520/1621 32025G35KT 8000 -RA OVC006 620069 510004 QNH2993INS\n",
      " BECMG 1602/1603 31012G20KT 9999 NSW OVC006 620069 510004 QNH2993INS\n",
      " BECMG 1614/1615 31012KT 9999 SCT010 BKN030 620303 QNH3001INS TX02/1520Z TNM03/1610Z\n",
      "\n",
      "TAF KGUS 1520/1621 32025G35KT 5000 -TSRA BKN010CB\n",
      " BECMG 1602/1603 31012KT 9999 NSW BKN015 OVC030 620303 QNH2995INS\n",
      " BECMG 1609/1610 31012G20KT 9999 BKN025 620303 QNH2998INS\n",
      " BECMG 1613/1614 31015G25KT 9999 FEW030 SCT045 QNH3002INS TX04/1520Z TN00/1611Z\n",
      "\n",
      "TAF KGUS 1520/1621 32015G25KT 9999 OVC010 QNH3029INS\n",
      " TEMPO 1521/1601 32015G25KT\n",
      " BECMG 1602/1603 31012G20KT 9999 BKN030 QNH3028INS\n",
      " BECMG 1609/1610 31012KT 9999 BKN030 QNH3027INS\n",
      " BECMG 1613/1614 31015G25KT 9999 FEW030 QNH3028INS TX04/1521Z TN01/1611Z\n",
      "\n"
     ]
    }
   ],
   "source": [
    "for forecast in forecasts:\n",
    "    print('\\n '.join(forecast) + \"\\n\")"
   ]
  }
 ],
 "metadata": {
  "kernelspec": {
   "display_name": "Python 3.10.6 ('fite-venv')",
   "language": "python",
   "name": "python3"
  },
  "language_info": {
   "codemirror_mode": {
    "name": "ipython",
    "version": 3
   },
   "file_extension": ".py",
   "mimetype": "text/x-python",
   "name": "python",
   "nbconvert_exporter": "python",
   "pygments_lexer": "ipython3",
   "version": "3.10.6"
  },
  "orig_nbformat": 4,
  "vscode": {
   "interpreter": {
    "hash": "1d13ec20a4f0be8a7bff8acb0062f04d9a58c5cf0e3425f7fa9dc5c43d3ff805"
   }
  }
 },
 "nbformat": 4,
 "nbformat_minor": 2
}
