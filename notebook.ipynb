{
 "cells": [
  {
   "cell_type": "code",
   "execution_count": 1,
   "metadata": {},
   "outputs": [
    {
     "data": {
      "text/html": [
       "\n",
       "                <script type=\"application/javascript\" id=\"jupyter_black\">\n",
       "                (function() {\n",
       "                    if (window.IPython === undefined) {\n",
       "                        return\n",
       "                    }\n",
       "                    var msg = \"WARNING: it looks like you might have loaded \" +\n",
       "                        \"jupyter_black in a non-lab notebook with \" +\n",
       "                        \"`is_lab=True`. Please double check, and if \" +\n",
       "                        \"loading with `%load_ext` please review the README!\"\n",
       "                    console.log(msg)\n",
       "                    alert(msg)\n",
       "                })()\n",
       "                </script>\n",
       "                "
      ],
      "text/plain": [
       "<IPython.core.display.HTML object>"
      ]
     },
     "metadata": {},
     "output_type": "display_data"
    }
   ],
   "source": [
    "%load_ext jupyter_black"
   ]
  },
  {
   "cell_type": "code",
   "execution_count": 2,
   "metadata": {},
   "outputs": [
    {
     "name": "stderr",
     "output_type": "stream",
     "text": [
      "/home/leaver2000/fite-venv/lib/python3.10/site-packages/fite/pipeline.py:359: UserWarning: Model gpt2-metar-base1 was found in the config but not on disk\n",
      "Model path: store/gpt2-metar-base1/model\n",
      "Tokenizer path: store/gpt2-metar-base1/tokenizer\n",
      "Skipping...\n",
      "  warnings.warn(\n"
     ]
    }
   ],
   "source": [
    "from fite.api import PipelineEngine\n",
    "\n",
    "engine = PipelineEngine.load_from_pyproject(\"pyproject.toml\")"
   ]
  },
  {
   "cell_type": "code",
   "execution_count": 3,
   "metadata": {},
   "outputs": [
    {
     "data": {
      "text/plain": [
       "['gpt2-taf-base1']"
      ]
     },
     "execution_count": 3,
     "metadata": {},
     "output_type": "execute_result"
    }
   ],
   "source": [
    "engine.list_models()"
   ]
  },
  {
   "cell_type": "code",
   "execution_count": 4,
   "metadata": {},
   "outputs": [
    {
     "data": {
      "text/plain": [
       "[['TAF KBLV 201853Z 2019/2118 00000KT P6SM SCT250 QNH3010INS',\n",
       "  'BECMG 0106/0107 VRB06KT 9999 FEW250 QNH3020INS TX18/0120Z TN11/0212Z']]"
      ]
     },
     "execution_count": 4,
     "metadata": {},
     "output_type": "execute_result"
    }
   ],
   "source": [
    "engine.generate(\n",
    "    \"gpt2-taf-base1\",\n",
    "    \"TAF KBLV 201853Z 2019/2118 00000KT P6SM SCT250\",\n",
    "    strategy=\"GREEDY\",\n",
    ")"
   ]
  },
  {
   "cell_type": "code",
   "execution_count": 18,
   "metadata": {},
   "outputs": [
    {
     "data": {
      "text/plain": [
       "'\\\\sTX?(?P<maximum_temperature>M?\\\\d{2})\\\\/\\\\d{4}Z\\\\sTN?(?P<minimum_temperature>M?\\\\d{2})\\\\/\\\\d{4}Z$'"
      ]
     },
     "execution_count": 18,
     "metadata": {},
     "output_type": "execute_result"
    }
   ],
   "source": [
    "TAF = (\n",
    "    \"TAF KBLV 201853Z 2019/2118 00000KT P6SM SCT250 QNH3010INS\\n\"\n",
    "    \"BECMG 0106/0107 VRB06KT 9999 FEW250 QNH3020INS TX18/0120Z TN11/0212Z\"\n",
    ")\n",
    "import re\n",
    "\n",
    "pattern = r\"\\sTX?(?P<maximum_temperature>M?\\d{2})\\/\\d{4}Z\\sTN?(?P<minimum_temperature>M?\\d{2})\\/\\d{4}Z$\"\n",
    "pattern\n",
    "# re.search(pattern, TAF).groupdict()"
   ]
  }
 ],
 "metadata": {
  "kernelspec": {
   "display_name": "Python 3.10.6 ('fite-venv')",
   "language": "python",
   "name": "python3"
  },
  "language_info": {
   "codemirror_mode": {
    "name": "ipython",
    "version": 3
   },
   "file_extension": ".py",
   "mimetype": "text/x-python",
   "name": "python",
   "nbconvert_exporter": "python",
   "pygments_lexer": "ipython3",
   "version": "3.10.6"
  },
  "orig_nbformat": 4,
  "vscode": {
   "interpreter": {
    "hash": "1d13ec20a4f0be8a7bff8acb0062f04d9a58c5cf0e3425f7fa9dc5c43d3ff805"
   }
  }
 },
 "nbformat": 4,
 "nbformat_minor": 2
}
