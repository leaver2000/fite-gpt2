{
 "cells": [
  {
   "cell_type": "code",
   "execution_count": 1,
   "metadata": {},
   "outputs": [
    {
     "data": {
      "text/html": [
       "\n",
       "                <script type=\"application/javascript\" id=\"jupyter_black\">\n",
       "                (function() {\n",
       "                    if (window.IPython === undefined) {\n",
       "                        return\n",
       "                    }\n",
       "                    var msg = \"WARNING: it looks like you might have loaded \" +\n",
       "                        \"jupyter_black in a non-lab notebook with \" +\n",
       "                        \"`is_lab=True`. Please double check, and if \" +\n",
       "                        \"loading with `%load_ext` please review the README!\"\n",
       "                    console.log(msg)\n",
       "                    alert(msg)\n",
       "                })()\n",
       "                </script>\n",
       "                "
      ],
      "text/plain": [
       "<IPython.core.display.HTML object>"
      ]
     },
     "metadata": {},
     "output_type": "display_data"
    }
   ],
   "source": [
    "%load_ext jupyter_black"
   ]
  },
  {
   "cell_type": "code",
   "execution_count": 2,
   "metadata": {},
   "outputs": [],
   "source": [
    "from model import (\n",
    "    pipeline,\n",
    "    HyperParameterStrategy,\n",
    ")"
   ]
  },
  {
   "cell_type": "code",
   "execution_count": 10,
   "metadata": {},
   "outputs": [
    {
     "name": "stdout",
     "output_type": "stream",
     "text": [
      "prompt:\n",
      "TAF KBLV 261600Z 2616/2722 VRB06KT\n",
      "generated_text:\n",
      "TAF KBLV 261600Z 2616/2722 VRB06KT 9999 SCT020 BKN030 QNH3008INS\n",
      " BECMG 2621/2622 27007KT 9999 SCT030 BKN045 QNH3012INS\n",
      " BECMG 2706/2707 34010G18KT 9999 FEW050 SCT200 QNH3013INS\n",
      " BECMG 2711/2712 35012G22KT 9999 SCT060 QNH3013INS TX18/2619Z TN11/2710Z\n",
      "strategy:\n",
      "BEAM_SEARCH\n",
      "{'do_sample': False, 'num_beams': 5, 'early_stopping': True}\n",
      "\n",
      "prompt:\n",
      "TAF KBLV 261600Z 2616/2722 VRB06KT 0400 FG VV002 QNH3015INS\n",
      "generated_text:\n",
      "TAF KBLV 261600Z 2616/2722 VRB06KT 0400 FG VV002 QNH3015INS\n",
      " BECMG 2621/2622 27007KT 9999 NSW SCT015 BKN030 620303 QNH3020INS TX04/2619Z TNM02/2610Z\n",
      "strategy:\n",
      "BEAM_SEARCH\n",
      "{'do_sample': False, 'num_beams': 5, 'early_stopping': True}\n",
      "\n",
      "prompt:\n",
      "TAF KBLV 261600Z 2616/2722 VRB06KT 0400 FG VV002 QNH3015INS\n",
      "BECMG 2616/2617 VRB06KT 4800\n",
      "generated_text:\n",
      "TAF KBLV 261600Z 2616/2722 VRB06KT 0400 FG VV002 QNH3015INS\n",
      " BECMG 2616/2617 VRB06KT 4800 BR SCT250 QNH3015INS\n",
      " BECMG 2621/2622 27007KT 9999 NSW SCT120 BKN250 QNH3016INS TX19/2619Z TN02/2710Z\n",
      "strategy:\n",
      "BEAM_SEARCH\n",
      "{'do_sample': False, 'num_beams': 5, 'early_stopping': True}\n",
      "\n"
     ]
    }
   ],
   "source": [
    "pipe = pipeline(\"gpt2\", \"taf\")\n",
    "# THE ACTUAL ISSUED FORECAST FOR KBLV ON 2022-11-26T16:00:00Z\n",
    "\n",
    "# TAF KBLV 261600Z 2616/2722 VRB06KT 0400 FG VV002 QNH3015INS\n",
    "#   BECMG 2616/2617 VRB06KT 4800 BR BKN005 QNH3004INS\n",
    "#   BECMG 2617/2618 VRB06KT 9999 NSW SCT005 BKN020 QNH2999INS\n",
    "#   BECMG 2702/2703 30012KT 8000 -SHRA OVC005 QNH2973INS\n",
    "#   BECMG 2716/2717 30015G20KT 9000 BR OVC010 QNH2958INS TX11/2710Z TN02/2616Z\n",
    "\n",
    "FORECAST_PROMPTS = [\n",
    "    \"TAF KBLV 261600Z 2616/2722 VRB06KT\",\n",
    "    \"TAF KBLV 261600Z 2616/2722 VRB06KT 0400 FG VV002 QNH3015INS\",\n",
    "    \"TAF KBLV 261600Z 2616/2722 VRB06KT 0400 FG VV002 QNH3015INS\\nBECMG 2616/2617 VRB06KT 4800\",\n",
    "]\n",
    "\n",
    "\n",
    "def compare(\n",
    "    prompts: list[str],\n",
    "    strategy: HyperParameterStrategy,\n",
    ") -> None:\n",
    "    # for each prompt a list is returned\n",
    "    # that list contains the result of the pipeline where the forecast is\n",
    "    # split at each new line\n",
    "    results = pipe.generate_forecast(prompts, strategy=strategy)\n",
    "    # for a comparison we'll zip the results and the prompts\n",
    "    for prompt, generated_text in zip(prompts, results):\n",
    "        # and joint the generated text into a single taf\n",
    "        print(\n",
    "            \"prompt:\",\n",
    "            prompt,\n",
    "            \"generated_text:\",\n",
    "            \"\\n \".join(generated_text),\n",
    "            \"strategy:\",\n",
    "            strategy.name,\n",
    "            strategy.value,\n",
    "            sep=\"\\n\",\n",
    "            end=\"\\n\\n\",\n",
    "        )\n",
    "\n",
    "\n",
    "compare(FORECAST_PROMPTS, HyperParameterStrategy.BEAM_SEARCH)"
   ]
  },
  {
   "cell_type": "code",
   "execution_count": 11,
   "metadata": {},
   "outputs": [
    {
     "name": "stdout",
     "output_type": "stream",
     "text": [
      "prompt:\n",
      "TAF KBLV 261600Z 2616/2722 VRB06KT\n",
      "generated_text:\n",
      "TAF KBLV 261600Z 2616/2722 VRB06KT 9999 FEW050 QNH3029INS\n",
      " BECMG 2621/2622 27007KT 9999 SCT050 QNH3028INS\n",
      " BECMG 2711/2712 34010G15KT 9999 FEW060 QNH3028INS TX03/2619Z TNM02/2710Z\n",
      "strategy:\n",
      "GREEDY\n",
      "{'do_sample': False, 'num_beams': 1}\n",
      "\n",
      "prompt:\n",
      "TAF KBLV 261600Z 2616/2722 VRB06KT 0400 FG VV002 QNH3015INS\n",
      "generated_text:\n",
      "TAF KBLV 261600Z 2616/2722 VRB06KT 0400 FG VV002 QNH3015INS\n",
      " BECMG 2621/2622 27007KT 9999 NSW SCT015 BKN030 620303 QNH3020INS TXM06/2619Z TNM12/2610Z\n",
      "strategy:\n",
      "GREEDY\n",
      "{'do_sample': False, 'num_beams': 1}\n",
      "\n",
      "prompt:\n",
      "TAF KBLV 261600Z 2616/2722 VRB06KT 0400 FG VV002 QNH3015INS\n",
      "BECMG 2616/2617 VRB06KT 4800\n",
      "generated_text:\n",
      "TAF KBLV 261600Z 2616/2722 VRB06KT 0400 FG VV002 QNH3015INS\n",
      " BECMG 2616/2617 VRB06KT 4800 BR SCT250 QNH3015INS\n",
      " BECMG 2621/2622 VRB06KT 9999 NSW SCT120 BKN250 QNH3016INS TX19/2619Z TN02/2710Z\n",
      "strategy:\n",
      "GREEDY\n",
      "{'do_sample': False, 'num_beams': 1}\n",
      "\n"
     ]
    }
   ],
   "source": [
    "compare(FORECAST_PROMPTS, HyperParameterStrategy.GREEDY)"
   ]
  },
  {
   "cell_type": "code",
   "execution_count": 12,
   "metadata": {},
   "outputs": [
    {
     "name": "stdout",
     "output_type": "stream",
     "text": [
      "prompt:\n",
      "TAF KBLV 261600Z 2616/2722 VRB06KT\n",
      "generated_text:\n",
      "TAF KBLV 261600Z 2616/2722 VRB06KT 9999 SCT020 BKN030 QNH3005INS\n",
      " BECMG 2621/2622 27007KT 4800 -RA BR OVC006 WS020/20038KT 510203 QN3010INS TX18/2519Z TN11/2810Z\n",
      "strategy:\n",
      "BEAM_SEARCH_N_GRAM_5\n",
      "{'do_sample': False, 'num_beams': 5, 'early_stopping': True, 'no_repeat_ngram_size': 2, 'num_return_sequences': 5}\n",
      "\n",
      "prompt:\n",
      "TAF KBLV 261600Z 2616/2722 VRB06KT 0400 FG VV002 QNH3015INS\n",
      "generated_text:\n",
      "TAF KBLV 261600Z 2616/2722 VRB06KT 9999 SCT020 BKN030 QNH3005INS\n",
      " BECMG 2621/2622 27007KT 4800 -RA BR OVC006 WS020/20036KT 510203 QN3010INS TX18/2519Z TN11/2810Z\n",
      "strategy:\n",
      "BEAM_SEARCH_N_GRAM_5\n",
      "{'do_sample': False, 'num_beams': 5, 'early_stopping': True, 'no_repeat_ngram_size': 2, 'num_return_sequences': 5}\n",
      "\n",
      "prompt:\n",
      "TAF KBLV 261600Z 2616/2722 VRB06KT 0400 FG VV002 QNH3015INS\n",
      "BECMG 2616/2617 VRB06KT 4800\n",
      "generated_text:\n",
      "TAF KBLV 261600Z 2616/2722 VRB06KT 9999 SCT020 BKN030 QNH3005INS\n",
      " BECMG 2621/2622 27007KT 4800 -RA BR OVC006 WS020/20038KT 510203 QN3010INS TX18/2519Z TN11/2602Z\n",
      "strategy:\n",
      "BEAM_SEARCH_N_GRAM_5\n",
      "{'do_sample': False, 'num_beams': 5, 'early_stopping': True, 'no_repeat_ngram_size': 2, 'num_return_sequences': 5}\n",
      "\n"
     ]
    }
   ],
   "source": [
    "compare(FORECAST_PROMPTS, HyperParameterStrategy.BEAM_SEARCH_N_GRAM_5)"
   ]
  },
  {
   "cell_type": "code",
   "execution_count": 13,
   "metadata": {},
   "outputs": [
    {
     "name": "stdout",
     "output_type": "stream",
     "text": [
      "prompt:\n",
      "TAF KBLV 261600Z 2616/2722 VRB06KT\n",
      "generated_text:\n",
      "TAF KBLV 261600Z 2616/2722 VRB06KT 9999 FEW035 SCT050 QNH2988INS\n",
      " BECMG 2621/2622 27007KT 9999 SCT035 QNH2999INS TX11/2619Z TN00/2710Z\n",
      "strategy:\n",
      "TOP_P92\n",
      "{'do_sample': True, 'top_k': 0, 'num_beams': 1, 'top_p': 0.92}\n",
      "\n",
      "prompt:\n",
      "TAF KBLV 261600Z 2616/2722 VRB06KT 0400 FG VV002 QNH3015INS\n",
      "generated_text:\n",
      "TAF KBLV 261600Z 2616/2722 VRB06KT 0400 FG VV002 QNH3015INS\n",
      " BECMG 2706/2707 34010G15KT 9999 NSW BKN007 OVC015 QNH3006INS TX14/2619Z TN02/2710Z\n",
      "strategy:\n",
      "TOP_P92\n",
      "{'do_sample': True, 'top_k': 0, 'num_beams': 1, 'top_p': 0.92}\n",
      "\n",
      "prompt:\n",
      "TAF KBLV 261600Z 2616/2722 VRB06KT 0400 FG VV002 QNH3015INS\n",
      "BECMG 2616/2617 VRB06KT 4800\n",
      "generated_text:\n",
      "TAF KBLV 261600Z 2616/2722 VRB06KT 0400 FG VV002 QNH3015INS\n",
      " BECMG 2616/2617 VRB06KT 4800 -RASN BR SCT008 OVC015 QNH2995INS\n",
      " BECMG 2621/2622 27007KT 9999 NSW SCT010 BKN020 QNH3005INS TX24/2619Z TN15/2710Z\n",
      "strategy:\n",
      "TOP_P92\n",
      "{'do_sample': True, 'top_k': 0, 'num_beams': 1, 'top_p': 0.92}\n",
      "\n"
     ]
    }
   ],
   "source": [
    "compare(FORECAST_PROMPTS, HyperParameterStrategy.TOP_KP)"
   ]
  },
  {
   "cell_type": "code",
   "execution_count": 6,
   "metadata": {},
   "outputs": [
    {
     "name": "stdout",
     "output_type": "stream",
     "text": [
      "TAF 1520/1521 VRB06KT 9999 NSW OVC015 620159 QNH3037INS\n",
      " BECMG 1522/1523 VRB06KT 9999 OVC015 620159 QNH3037INS\n",
      " BECMG 1604/1605 24009KT 9000 BR OVC010 620108 QNH3037INS\n",
      " BECMG 1614/1615 25012KT 9000 BR SCT015 OVC025 620257 QNH3028INS\n",
      " BECMG 1616/1617 26012KT 9000 BR OVC025 620257 QNH3028INS\n",
      " BECMG 1622/1623 25009KT 9999 NSW BKN025 OVC040 620258 QNH3030INS TX04/1519Z TNM02/1611Z\n",
      "\n",
      "TAF KBLV 1520/1621 32020G25KT 9999 NSW OVC015 620159 QNH2994INS\n",
      " BECMG 1602/1603 31012G20KT 9999 OVC015 620159 QNH3003INS\n",
      " BECMG 1606/1607 30012KT 9999 BKN025 620255 QNH3006INS\n",
      " BECMG 1614/1615 29012KT 9999 BKN025 620255 QNH3010INS TX02/1520Z TNM03/1610Z\n",
      "\n"
     ]
    }
   ],
   "source": [
    "for forecast in forecasts:\n",
    "    print(\"\\n \".join(forecast) + \"\\n\")"
   ]
  }
 ],
 "metadata": {
  "kernelspec": {
   "display_name": "Python 3.10.6 ('fite-venv')",
   "language": "python",
   "name": "python3"
  },
  "language_info": {
   "codemirror_mode": {
    "name": "ipython",
    "version": 3
   },
   "file_extension": ".py",
   "mimetype": "text/x-python",
   "name": "python",
   "nbconvert_exporter": "python",
   "pygments_lexer": "ipython3",
   "version": "3.10.6"
  },
  "orig_nbformat": 4,
  "vscode": {
   "interpreter": {
    "hash": "1d13ec20a4f0be8a7bff8acb0062f04d9a58c5cf0e3425f7fa9dc5c43d3ff805"
   }
  }
 },
 "nbformat": 4,
 "nbformat_minor": 2
}
